{
  "nbformat": 4,
  "nbformat_minor": 0,
  "metadata": {
    "kernelspec": {
      "display_name": "Python 3",
      "language": "python",
      "name": "python3"
    },
    "language_info": {
      "codemirror_mode": {
        "name": "ipython",
        "version": 3
      },
      "file_extension": ".py",
      "mimetype": "text/x-python",
      "name": "python",
      "nbconvert_exporter": "python",
      "pygments_lexer": "ipython3",
      "version": "3.7.7"
    },
    "colab": {
      "name": "paper2.ipynb",
      "provenance": [],
      "collapsed_sections": [],
      "include_colab_link": true
    },
    "accelerator": "GPU"
  },
  "cells": [
    {
      "cell_type": "markdown",
      "metadata": {
        "id": "view-in-github",
        "colab_type": "text"
      },
      "source": [
        "<a href=\"https://colab.research.google.com/github/emadaghajanzadeh/sklearn_pycon2015/blob/master/paper2.ipynb\" target=\"_parent\"><img src=\"https://colab.research.google.com/assets/colab-badge.svg\" alt=\"Open In Colab\"/></a>"
      ]
    },
    {
      "cell_type": "markdown",
      "metadata": {
        "id": "l9DDQZqzFlpT",
        "colab_type": "text"
      },
      "source": [
        "<span style=\"color:purple;font-size:3em;\">**Mnist-convl-implement like paper**\n",
        "</span>"
      ]
    },
    {
      "cell_type": "code",
      "metadata": {
        "id": "KXWJpHCZFlpV",
        "colab_type": "code",
        "colab": {}
      },
      "source": [
        "from tensorflow import keras\n",
        "import numpy as np\n",
        "import matplotlib.pyplot as plt\n",
        "import tensorflow as tf\n",
        "import keras\n",
        "from keras.datasets import mnist\n",
        "from keras.models import Sequential\n",
        "from keras.layers import Dense,Activation,Conv2D, MaxPooling2D, Flatten,BatchNormalization,Conv1D,MaxPooling1D,Dropout , Lambda\n",
        "from keras import initializers\n",
        "\n",
        "image_size = 28\n",
        "num_channels = 0\n",
        "num_features = image_size * image_size \n",
        "num_classes = 10\n",
        "\n",
        "num_train = 60000\n"
      ],
      "execution_count": null,
      "outputs": []
    },
    {
      "cell_type": "code",
      "metadata": {
        "id": "mVDYPy3-aeBK",
        "colab_type": "code",
        "colab": {
          "base_uri": "https://localhost:8080/",
          "height": 128
        },
        "outputId": "d9e6b263-b260-4978-a5f2-e2a20dbced49"
      },
      "source": [
        "import matplotlib.pyplot as plt\n",
        "import numpy as np\n",
        "import os , pickle\n",
        "from google.colab import drive\n",
        "drive.mount('/content/drive')\n",
        "\n",
        "def load_cifar10_batch(filename):\n",
        "  # \"load signle batch from CIFAR10\"\n",
        "    with open(filename , 'rb') as f  : \n",
        "     datadict = pickle.load(f , encoding='bytes')\n",
        "     X = datadict[b'data']\n",
        "     Y = datadict[b'labels']\n",
        "     X = X.reshape(10000 , 3 , 32 , 32)\n",
        "     X = X.transpose(0 , 2 , 3 , 1).astype('float')\n",
        "     Y = np.array(Y)\n",
        "     return X , Y\n",
        "\n",
        "def load_cifar10(dir):\n",
        "  xs = []\n",
        "  ys = []\n",
        "  for i in range(1 , 6):\n",
        "    filenamev = os.path.join(dir , 'data_batch_%d' %i)\n",
        "    X , Y = load_cifar10_batch(filenamev)\n",
        "    xs.append(X)\n",
        "    ys.append(Y)\n",
        "\n",
        "  Xtr = np.concatenate(xs)\n",
        "  Ytr = np.concatenate(ys)\n",
        "  del X , Y\n",
        "\n",
        "  Xte , Yte  = load_cifar10_batch(os.path.join(dir , 'test_batch'))\n",
        "  return Xtr , Ytr , Xte , Yte\n",
        "\n",
        "X_train , y_train , X_test , y_test = load_cifar10('./drive/My Drive/Colab Notebooks/datasets/cifar-10-batches-py')"
      ],
      "execution_count": null,
      "outputs": [
        {
          "output_type": "stream",
          "text": [
            "Go to this URL in a browser: https://accounts.google.com/o/oauth2/auth?client_id=947318989803-6bn6qk8qdgf4n4g3pfee6491hc0brc4i.apps.googleusercontent.com&redirect_uri=urn%3aietf%3awg%3aoauth%3a2.0%3aoob&response_type=code&scope=email%20https%3a%2f%2fwww.googleapis.com%2fauth%2fdocs.test%20https%3a%2f%2fwww.googleapis.com%2fauth%2fdrive%20https%3a%2f%2fwww.googleapis.com%2fauth%2fdrive.photos.readonly%20https%3a%2f%2fwww.googleapis.com%2fauth%2fpeopleapi.readonly\n",
            "\n",
            "Enter your authorization code:\n",
            "··········\n",
            "Mounted at /content/drive\n"
          ],
          "name": "stdout"
        }
      ]
    },
    {
      "cell_type": "code",
      "metadata": {
        "id": "rZ71GCyoFlpe",
        "colab_type": "code",
        "colab": {
          "base_uri": "https://localhost:8080/",
          "height": 90
        },
        "outputId": "87eb76fa-ae76-469b-c1db-9d926574fbfc"
      },
      "source": [
        "(X_train, y_train), (X_test, y_test)\n",
        "print('Train data shape: {}'.format(X_train.shape))\n",
        "print('Test  data shape: {}'.format(X_test.shape))\n",
        "\n",
        "X_train = X_train.astype('float32')\n",
        "X_test = X_test.astype('float32')\n",
        "X_train /= 255\n",
        "X_test /= 255\n",
        "print(X_train.shape)\n",
        "print(X_train.shape[1:])"
      ],
      "execution_count": null,
      "outputs": [
        {
          "output_type": "stream",
          "text": [
            "Train data shape: (50000, 32, 32, 3)\n",
            "Test  data shape: (10000, 32, 32, 3)\n",
            "(50000, 32, 32, 3)\n",
            "(32, 32, 3)\n"
          ],
          "name": "stdout"
        }
      ]
    },
    {
      "cell_type": "code",
      "metadata": {
        "id": "H5xJmphvFlpo",
        "colab_type": "code",
        "colab": {
          "base_uri": "https://localhost:8080/",
          "height": 53
        },
        "outputId": "07edc9b5-d1ce-4873-bb62-4baf7384c4ab"
      },
      "source": [
        "y_train = keras.utils.to_categorical(y_train, num_classes)\n",
        "y_test  = keras.utils.to_categorical(y_test,  num_classes)\n",
        "\n",
        "print(y_train.shape)\n",
        "print(y_test.shape)\n",
        "#########   !!!\n",
        "# print((num_features,))\n"
      ],
      "execution_count": null,
      "outputs": [
        {
          "output_type": "stream",
          "text": [
            "(50000, 10)\n",
            "(10000, 10)\n"
          ],
          "name": "stdout"
        }
      ]
    },
    {
      "cell_type": "code",
      "metadata": {
        "id": "9tXucWhTFlpu",
        "colab_type": "code",
        "colab": {}
      },
      "source": [
        "def create_cnn(model_name):\n",
        "    model = Sequential()\n",
        "    if(model_name==\"without_dropout\"):\n",
        "        #######################################  without_dropout  ##################   \n",
        "        # Conv Block 1 \n",
        "        model.add(Conv2D(6, kernel_size=(5 , 5), padding='same', input_shape=X_train.shape[1:], activation='relu', kernel_initializer=initializers.RandomNormal(stddev=0.01),\n",
        "        bias_initializer=initializers.Zeros())) \n",
        "        model.add(MaxPooling2D(pool_size=(2,2),strides=2))\n",
        "        # Conv Block 2\n",
        "        model.add(Conv2D(12,kernel_size=(5 ,5 ), padding='same', activation='relu'))\n",
        "        model.add(MaxPooling2D(pool_size=(2 , 2),strides=2))\n",
        "        # Classifier\n",
        "        model.add(Flatten())                                                         \n",
        "        model.add(Dense(1000, activation='relu'))\n",
        "        model.add(Dense(num_classes, activation='softmax'))\n",
        "        \n",
        "####################################################### max_pooling##################   \n",
        "   \n",
        "    elif(model_name==\"max_pooling\"):\n",
        "        # Conv Block 1 \n",
        "        model.add(Conv2D(6, kernel_size=(5 , 5), padding='same', input_shape=X_train.shape[1:], activation='relu', kernel_initializer=initializers.RandomNormal(stddev=0.01),\n",
        "        bias_initializer=initializers.Zeros())) \n",
        "        model.add(Dropout(0.5))\n",
        "        model.add(MaxPooling2D(pool_size=(2,2),strides=2))\n",
        "       \n",
        "        # Conv Block 2\n",
        "        model.add(Conv2D(12,kernel_size=(5,5), padding='same', activation='relu'))\n",
        "        model.add(Dropout(0.5))\n",
        "        model.add(MaxPooling2D(pool_size=(2,2),strides=2))\n",
        "        \n",
        "        # Classifier\n",
        "        model.add(Flatten())\n",
        "        model.add(Dense(1000, activation='relu'))\n",
        "        model.add(Dropout(0.2))\n",
        "        model.add(Dense(num_classes, activation='softmax'))\n",
        "    \n",
        "    elif(model_name==\"scaled_max_pooling\"):\n",
        "        # Conv Block 1 \n",
        "        model.add(Conv2D(6, kernel_size=(5,5), padding='same', input_shape=X_train.shape[1:], activation='relu', kernel_initializer=initializers.RandomNormal(stddev=0.01),\n",
        "        bias_initializer=initializers.Zeros())) \n",
        "        model.add(Dropout(0.5))\n",
        "        model.add(MaxPooling2D(pool_size=(2,2),strides=2))\n",
        "        model.add(Lambda(lambda x: x * 0.5))\n",
        "       \n",
        "        # Conv Block 2\n",
        "        model.add(Conv2D(12,kernel_size=(5,5), padding='same', activation='relu'))\n",
        "        model.add(Dropout(0.5))\n",
        "        model.add(MaxPooling2D(pool_size=(2,2),strides=2))\n",
        "        model.add(Lambda(lambda x: x * 0.5))\n",
        "        \n",
        "        # Classifier\n",
        "        model.add(Flatten())\n",
        "        model.add(Dense(1000, activation='relu'))\n",
        "        model.add(Dropout(0.2))\n",
        "        model.add(Dense(num_classes, activation='softmax'))\n",
        "\n",
        "    return model\n",
        "\n",
        "\n",
        "\n",
        "#print model\n",
        "# model.summary()"
      ],
      "execution_count": null,
      "outputs": []
    },
    {
      "cell_type": "code",
      "metadata": {
        "id": "aNKjHkUfFlp0",
        "colab_type": "code",
        "colab": {
          "base_uri": "https://localhost:8080/",
          "height": 423
        },
        "outputId": "551f0f45-a2ce-4812-ea34-69eab442bba7"
      },
      "source": [
        "model = create_cnn(\"without_dropout\")\n",
        "#optimizer = keras.optimizers.SGD(learning_rate=0.001,momentum=0.95)\n",
        "# step = tf.Variable(0, trainable=False)\n",
        "\n",
        "# boundaries = [20000, 40000]\n",
        "# values = [0.1, 0.01, 0.001]\n",
        "# learning_rate_fn= tf.keras.optimizers.schedules.PiecewiseConstantDecay(\n",
        "#     boundaries, values)\n",
        "\n",
        "# # Later, whenever we perform an optimization step, we pass in the step.\n",
        "# learning_rate = learning_rate_fn(step)\n",
        "optimizer = keras.optimizers.SGD(learning_rate = 0.001 , momentum=0.95)\n",
        "\n",
        "model.compile(optimizer='adam', loss='categorical_crossentropy', metrics=['accuracy'])\n",
        "\n",
        "# history_without_dropout=model.fit(X_train[:50000 ], y_train[:50000 , :],\n",
        "#           batch_size=100,\n",
        "#           epochs=15\n",
        "#           ,validation_data=(X_train[50000: , :], X_train[50000: , :]))\n",
        "\n",
        "history_without_dropout = model.fit(X_train , y_train , batch_size = 100 , epochs = 55 , validation_split=1/6)\n",
        "score = model.evaluate(X_test, y_test, verbose=0)\n",
        "print(\"Test loss:\", score[0])\n",
        "print(\"Test accuracy:\", score[1])\n",
        "\n",
        "          \n",
        "          "
      ],
      "execution_count": null,
      "outputs": [
        {
          "output_type": "stream",
          "text": [
            "Epoch 1/55\n"
          ],
          "name": "stdout"
        },
        {
          "output_type": "error",
          "ename": "KeyboardInterrupt",
          "evalue": "ignored",
          "traceback": [
            "\u001b[0;31m---------------------------------------------------------------------------\u001b[0m",
            "\u001b[0;31mKeyboardInterrupt\u001b[0m                         Traceback (most recent call last)",
            "\u001b[0;32m<ipython-input-9-821c60edfb3f>\u001b[0m in \u001b[0;36m<module>\u001b[0;34m()\u001b[0m\n\u001b[1;32m     19\u001b[0m \u001b[0;31m#           ,validation_data=(X_train[50000: , :], X_train[50000: , :]))\u001b[0m\u001b[0;34m\u001b[0m\u001b[0;34m\u001b[0m\u001b[0;34m\u001b[0m\u001b[0m\n\u001b[1;32m     20\u001b[0m \u001b[0;34m\u001b[0m\u001b[0m\n\u001b[0;32m---> 21\u001b[0;31m \u001b[0mhistory_without_dropout\u001b[0m \u001b[0;34m=\u001b[0m \u001b[0mmodel\u001b[0m\u001b[0;34m.\u001b[0m\u001b[0mfit\u001b[0m\u001b[0;34m(\u001b[0m\u001b[0mX_train\u001b[0m \u001b[0;34m,\u001b[0m \u001b[0my_train\u001b[0m \u001b[0;34m,\u001b[0m \u001b[0mbatch_size\u001b[0m \u001b[0;34m=\u001b[0m \u001b[0;36m100\u001b[0m \u001b[0;34m,\u001b[0m \u001b[0mepochs\u001b[0m \u001b[0;34m=\u001b[0m \u001b[0;36m55\u001b[0m \u001b[0;34m,\u001b[0m \u001b[0mvalidation_split\u001b[0m\u001b[0;34m=\u001b[0m\u001b[0;36m1\u001b[0m\u001b[0;34m/\u001b[0m\u001b[0;36m6\u001b[0m\u001b[0;34m)\u001b[0m\u001b[0;34m\u001b[0m\u001b[0;34m\u001b[0m\u001b[0m\n\u001b[0m\u001b[1;32m     22\u001b[0m \u001b[0mscore\u001b[0m \u001b[0;34m=\u001b[0m \u001b[0mmodel\u001b[0m\u001b[0;34m.\u001b[0m\u001b[0mevaluate\u001b[0m\u001b[0;34m(\u001b[0m\u001b[0mX_test\u001b[0m\u001b[0;34m,\u001b[0m \u001b[0my_test\u001b[0m\u001b[0;34m,\u001b[0m \u001b[0mverbose\u001b[0m\u001b[0;34m=\u001b[0m\u001b[0;36m0\u001b[0m\u001b[0;34m)\u001b[0m\u001b[0;34m\u001b[0m\u001b[0;34m\u001b[0m\u001b[0m\n\u001b[1;32m     23\u001b[0m \u001b[0mprint\u001b[0m\u001b[0;34m(\u001b[0m\u001b[0;34m\"Test loss:\"\u001b[0m\u001b[0;34m,\u001b[0m \u001b[0mscore\u001b[0m\u001b[0;34m[\u001b[0m\u001b[0;36m0\u001b[0m\u001b[0;34m]\u001b[0m\u001b[0;34m)\u001b[0m\u001b[0;34m\u001b[0m\u001b[0;34m\u001b[0m\u001b[0m\n",
            "\u001b[0;32m/usr/local/lib/python3.6/dist-packages/tensorflow/python/keras/engine/training.py\u001b[0m in \u001b[0;36m_method_wrapper\u001b[0;34m(self, *args, **kwargs)\u001b[0m\n\u001b[1;32m    106\u001b[0m   \u001b[0;32mdef\u001b[0m \u001b[0m_method_wrapper\u001b[0m\u001b[0;34m(\u001b[0m\u001b[0mself\u001b[0m\u001b[0;34m,\u001b[0m \u001b[0;34m*\u001b[0m\u001b[0margs\u001b[0m\u001b[0;34m,\u001b[0m \u001b[0;34m**\u001b[0m\u001b[0mkwargs\u001b[0m\u001b[0;34m)\u001b[0m\u001b[0;34m:\u001b[0m\u001b[0;34m\u001b[0m\u001b[0;34m\u001b[0m\u001b[0m\n\u001b[1;32m    107\u001b[0m     \u001b[0;32mif\u001b[0m \u001b[0;32mnot\u001b[0m \u001b[0mself\u001b[0m\u001b[0;34m.\u001b[0m\u001b[0m_in_multi_worker_mode\u001b[0m\u001b[0;34m(\u001b[0m\u001b[0;34m)\u001b[0m\u001b[0;34m:\u001b[0m  \u001b[0;31m# pylint: disable=protected-access\u001b[0m\u001b[0;34m\u001b[0m\u001b[0;34m\u001b[0m\u001b[0m\n\u001b[0;32m--> 108\u001b[0;31m       \u001b[0;32mreturn\u001b[0m \u001b[0mmethod\u001b[0m\u001b[0;34m(\u001b[0m\u001b[0mself\u001b[0m\u001b[0;34m,\u001b[0m \u001b[0;34m*\u001b[0m\u001b[0margs\u001b[0m\u001b[0;34m,\u001b[0m \u001b[0;34m**\u001b[0m\u001b[0mkwargs\u001b[0m\u001b[0;34m)\u001b[0m\u001b[0;34m\u001b[0m\u001b[0;34m\u001b[0m\u001b[0m\n\u001b[0m\u001b[1;32m    109\u001b[0m \u001b[0;34m\u001b[0m\u001b[0m\n\u001b[1;32m    110\u001b[0m     \u001b[0;31m# Running inside `run_distribute_coordinator` already.\u001b[0m\u001b[0;34m\u001b[0m\u001b[0;34m\u001b[0m\u001b[0;34m\u001b[0m\u001b[0m\n",
            "\u001b[0;32m/usr/local/lib/python3.6/dist-packages/tensorflow/python/keras/engine/training.py\u001b[0m in \u001b[0;36mfit\u001b[0;34m(self, x, y, batch_size, epochs, verbose, callbacks, validation_split, validation_data, shuffle, class_weight, sample_weight, initial_epoch, steps_per_epoch, validation_steps, validation_batch_size, validation_freq, max_queue_size, workers, use_multiprocessing)\u001b[0m\n\u001b[1;32m   1096\u001b[0m                 batch_size=batch_size):\n\u001b[1;32m   1097\u001b[0m               \u001b[0mcallbacks\u001b[0m\u001b[0;34m.\u001b[0m\u001b[0mon_train_batch_begin\u001b[0m\u001b[0;34m(\u001b[0m\u001b[0mstep\u001b[0m\u001b[0;34m)\u001b[0m\u001b[0;34m\u001b[0m\u001b[0;34m\u001b[0m\u001b[0m\n\u001b[0;32m-> 1098\u001b[0;31m               \u001b[0mtmp_logs\u001b[0m \u001b[0;34m=\u001b[0m \u001b[0mtrain_function\u001b[0m\u001b[0;34m(\u001b[0m\u001b[0miterator\u001b[0m\u001b[0;34m)\u001b[0m\u001b[0;34m\u001b[0m\u001b[0;34m\u001b[0m\u001b[0m\n\u001b[0m\u001b[1;32m   1099\u001b[0m               \u001b[0;32mif\u001b[0m \u001b[0mdata_handler\u001b[0m\u001b[0;34m.\u001b[0m\u001b[0mshould_sync\u001b[0m\u001b[0;34m:\u001b[0m\u001b[0;34m\u001b[0m\u001b[0;34m\u001b[0m\u001b[0m\n\u001b[1;32m   1100\u001b[0m                 \u001b[0mcontext\u001b[0m\u001b[0;34m.\u001b[0m\u001b[0masync_wait\u001b[0m\u001b[0;34m(\u001b[0m\u001b[0;34m)\u001b[0m\u001b[0;34m\u001b[0m\u001b[0;34m\u001b[0m\u001b[0m\n",
            "\u001b[0;32m/usr/local/lib/python3.6/dist-packages/tensorflow/python/eager/def_function.py\u001b[0m in \u001b[0;36m__call__\u001b[0;34m(self, *args, **kwds)\u001b[0m\n\u001b[1;32m    778\u001b[0m       \u001b[0;32melse\u001b[0m\u001b[0;34m:\u001b[0m\u001b[0;34m\u001b[0m\u001b[0;34m\u001b[0m\u001b[0m\n\u001b[1;32m    779\u001b[0m         \u001b[0mcompiler\u001b[0m \u001b[0;34m=\u001b[0m \u001b[0;34m\"nonXla\"\u001b[0m\u001b[0;34m\u001b[0m\u001b[0;34m\u001b[0m\u001b[0m\n\u001b[0;32m--> 780\u001b[0;31m         \u001b[0mresult\u001b[0m \u001b[0;34m=\u001b[0m \u001b[0mself\u001b[0m\u001b[0;34m.\u001b[0m\u001b[0m_call\u001b[0m\u001b[0;34m(\u001b[0m\u001b[0;34m*\u001b[0m\u001b[0margs\u001b[0m\u001b[0;34m,\u001b[0m \u001b[0;34m**\u001b[0m\u001b[0mkwds\u001b[0m\u001b[0;34m)\u001b[0m\u001b[0;34m\u001b[0m\u001b[0;34m\u001b[0m\u001b[0m\n\u001b[0m\u001b[1;32m    781\u001b[0m \u001b[0;34m\u001b[0m\u001b[0m\n\u001b[1;32m    782\u001b[0m       \u001b[0mnew_tracing_count\u001b[0m \u001b[0;34m=\u001b[0m \u001b[0mself\u001b[0m\u001b[0;34m.\u001b[0m\u001b[0m_get_tracing_count\u001b[0m\u001b[0;34m(\u001b[0m\u001b[0;34m)\u001b[0m\u001b[0;34m\u001b[0m\u001b[0;34m\u001b[0m\u001b[0m\n",
            "\u001b[0;32m/usr/local/lib/python3.6/dist-packages/tensorflow/python/eager/def_function.py\u001b[0m in \u001b[0;36m_call\u001b[0;34m(self, *args, **kwds)\u001b[0m\n\u001b[1;32m    838\u001b[0m         \u001b[0;31m# Lifting succeeded, so variables are initialized and we can run the\u001b[0m\u001b[0;34m\u001b[0m\u001b[0;34m\u001b[0m\u001b[0;34m\u001b[0m\u001b[0m\n\u001b[1;32m    839\u001b[0m         \u001b[0;31m# stateless function.\u001b[0m\u001b[0;34m\u001b[0m\u001b[0;34m\u001b[0m\u001b[0;34m\u001b[0m\u001b[0m\n\u001b[0;32m--> 840\u001b[0;31m         \u001b[0;32mreturn\u001b[0m \u001b[0mself\u001b[0m\u001b[0;34m.\u001b[0m\u001b[0m_stateless_fn\u001b[0m\u001b[0;34m(\u001b[0m\u001b[0;34m*\u001b[0m\u001b[0margs\u001b[0m\u001b[0;34m,\u001b[0m \u001b[0;34m**\u001b[0m\u001b[0mkwds\u001b[0m\u001b[0;34m)\u001b[0m\u001b[0;34m\u001b[0m\u001b[0;34m\u001b[0m\u001b[0m\n\u001b[0m\u001b[1;32m    841\u001b[0m     \u001b[0;32melse\u001b[0m\u001b[0;34m:\u001b[0m\u001b[0;34m\u001b[0m\u001b[0;34m\u001b[0m\u001b[0m\n\u001b[1;32m    842\u001b[0m       \u001b[0mcanon_args\u001b[0m\u001b[0;34m,\u001b[0m \u001b[0mcanon_kwds\u001b[0m \u001b[0;34m=\u001b[0m\u001b[0;31m \u001b[0m\u001b[0;31m\\\u001b[0m\u001b[0;34m\u001b[0m\u001b[0;34m\u001b[0m\u001b[0m\n",
            "\u001b[0;32m/usr/local/lib/python3.6/dist-packages/tensorflow/python/eager/function.py\u001b[0m in \u001b[0;36m__call__\u001b[0;34m(self, *args, **kwargs)\u001b[0m\n\u001b[1;32m   2827\u001b[0m     \u001b[0;32mwith\u001b[0m \u001b[0mself\u001b[0m\u001b[0;34m.\u001b[0m\u001b[0m_lock\u001b[0m\u001b[0;34m:\u001b[0m\u001b[0;34m\u001b[0m\u001b[0;34m\u001b[0m\u001b[0m\n\u001b[1;32m   2828\u001b[0m       \u001b[0mgraph_function\u001b[0m\u001b[0;34m,\u001b[0m \u001b[0margs\u001b[0m\u001b[0;34m,\u001b[0m \u001b[0mkwargs\u001b[0m \u001b[0;34m=\u001b[0m \u001b[0mself\u001b[0m\u001b[0;34m.\u001b[0m\u001b[0m_maybe_define_function\u001b[0m\u001b[0;34m(\u001b[0m\u001b[0margs\u001b[0m\u001b[0;34m,\u001b[0m \u001b[0mkwargs\u001b[0m\u001b[0;34m)\u001b[0m\u001b[0;34m\u001b[0m\u001b[0;34m\u001b[0m\u001b[0m\n\u001b[0;32m-> 2829\u001b[0;31m     \u001b[0;32mreturn\u001b[0m \u001b[0mgraph_function\u001b[0m\u001b[0;34m.\u001b[0m\u001b[0m_filtered_call\u001b[0m\u001b[0;34m(\u001b[0m\u001b[0margs\u001b[0m\u001b[0;34m,\u001b[0m \u001b[0mkwargs\u001b[0m\u001b[0;34m)\u001b[0m  \u001b[0;31m# pylint: disable=protected-access\u001b[0m\u001b[0;34m\u001b[0m\u001b[0;34m\u001b[0m\u001b[0m\n\u001b[0m\u001b[1;32m   2830\u001b[0m \u001b[0;34m\u001b[0m\u001b[0m\n\u001b[1;32m   2831\u001b[0m   \u001b[0;34m@\u001b[0m\u001b[0mproperty\u001b[0m\u001b[0;34m\u001b[0m\u001b[0;34m\u001b[0m\u001b[0m\n",
            "\u001b[0;32m/usr/local/lib/python3.6/dist-packages/tensorflow/python/eager/function.py\u001b[0m in \u001b[0;36m_filtered_call\u001b[0;34m(self, args, kwargs, cancellation_manager)\u001b[0m\n\u001b[1;32m   1846\u001b[0m                            resource_variable_ops.BaseResourceVariable))],\n\u001b[1;32m   1847\u001b[0m         \u001b[0mcaptured_inputs\u001b[0m\u001b[0;34m=\u001b[0m\u001b[0mself\u001b[0m\u001b[0;34m.\u001b[0m\u001b[0mcaptured_inputs\u001b[0m\u001b[0;34m,\u001b[0m\u001b[0;34m\u001b[0m\u001b[0;34m\u001b[0m\u001b[0m\n\u001b[0;32m-> 1848\u001b[0;31m         cancellation_manager=cancellation_manager)\n\u001b[0m\u001b[1;32m   1849\u001b[0m \u001b[0;34m\u001b[0m\u001b[0m\n\u001b[1;32m   1850\u001b[0m   \u001b[0;32mdef\u001b[0m \u001b[0m_call_flat\u001b[0m\u001b[0;34m(\u001b[0m\u001b[0mself\u001b[0m\u001b[0;34m,\u001b[0m \u001b[0margs\u001b[0m\u001b[0;34m,\u001b[0m \u001b[0mcaptured_inputs\u001b[0m\u001b[0;34m,\u001b[0m \u001b[0mcancellation_manager\u001b[0m\u001b[0;34m=\u001b[0m\u001b[0;32mNone\u001b[0m\u001b[0;34m)\u001b[0m\u001b[0;34m:\u001b[0m\u001b[0;34m\u001b[0m\u001b[0;34m\u001b[0m\u001b[0m\n",
            "\u001b[0;32m/usr/local/lib/python3.6/dist-packages/tensorflow/python/eager/function.py\u001b[0m in \u001b[0;36m_call_flat\u001b[0;34m(self, args, captured_inputs, cancellation_manager)\u001b[0m\n\u001b[1;32m   1922\u001b[0m       \u001b[0;31m# No tape is watching; skip to running the function.\u001b[0m\u001b[0;34m\u001b[0m\u001b[0;34m\u001b[0m\u001b[0;34m\u001b[0m\u001b[0m\n\u001b[1;32m   1923\u001b[0m       return self._build_call_outputs(self._inference_function.call(\n\u001b[0;32m-> 1924\u001b[0;31m           ctx, args, cancellation_manager=cancellation_manager))\n\u001b[0m\u001b[1;32m   1925\u001b[0m     forward_backward = self._select_forward_and_backward_functions(\n\u001b[1;32m   1926\u001b[0m         \u001b[0margs\u001b[0m\u001b[0;34m,\u001b[0m\u001b[0;34m\u001b[0m\u001b[0;34m\u001b[0m\u001b[0m\n",
            "\u001b[0;32m/usr/local/lib/python3.6/dist-packages/tensorflow/python/eager/function.py\u001b[0m in \u001b[0;36mcall\u001b[0;34m(self, ctx, args, cancellation_manager)\u001b[0m\n\u001b[1;32m    548\u001b[0m               \u001b[0minputs\u001b[0m\u001b[0;34m=\u001b[0m\u001b[0margs\u001b[0m\u001b[0;34m,\u001b[0m\u001b[0;34m\u001b[0m\u001b[0;34m\u001b[0m\u001b[0m\n\u001b[1;32m    549\u001b[0m               \u001b[0mattrs\u001b[0m\u001b[0;34m=\u001b[0m\u001b[0mattrs\u001b[0m\u001b[0;34m,\u001b[0m\u001b[0;34m\u001b[0m\u001b[0;34m\u001b[0m\u001b[0m\n\u001b[0;32m--> 550\u001b[0;31m               ctx=ctx)\n\u001b[0m\u001b[1;32m    551\u001b[0m         \u001b[0;32melse\u001b[0m\u001b[0;34m:\u001b[0m\u001b[0;34m\u001b[0m\u001b[0;34m\u001b[0m\u001b[0m\n\u001b[1;32m    552\u001b[0m           outputs = execute.execute_with_cancellation(\n",
            "\u001b[0;32m/usr/local/lib/python3.6/dist-packages/tensorflow/python/eager/execute.py\u001b[0m in \u001b[0;36mquick_execute\u001b[0;34m(op_name, num_outputs, inputs, attrs, ctx, name)\u001b[0m\n\u001b[1;32m     58\u001b[0m     \u001b[0mctx\u001b[0m\u001b[0;34m.\u001b[0m\u001b[0mensure_initialized\u001b[0m\u001b[0;34m(\u001b[0m\u001b[0;34m)\u001b[0m\u001b[0;34m\u001b[0m\u001b[0;34m\u001b[0m\u001b[0m\n\u001b[1;32m     59\u001b[0m     tensors = pywrap_tfe.TFE_Py_Execute(ctx._handle, device_name, op_name,\n\u001b[0;32m---> 60\u001b[0;31m                                         inputs, attrs, num_outputs)\n\u001b[0m\u001b[1;32m     61\u001b[0m   \u001b[0;32mexcept\u001b[0m \u001b[0mcore\u001b[0m\u001b[0;34m.\u001b[0m\u001b[0m_NotOkStatusException\u001b[0m \u001b[0;32mas\u001b[0m \u001b[0me\u001b[0m\u001b[0;34m:\u001b[0m\u001b[0;34m\u001b[0m\u001b[0;34m\u001b[0m\u001b[0m\n\u001b[1;32m     62\u001b[0m     \u001b[0;32mif\u001b[0m \u001b[0mname\u001b[0m \u001b[0;32mis\u001b[0m \u001b[0;32mnot\u001b[0m \u001b[0;32mNone\u001b[0m\u001b[0;34m:\u001b[0m\u001b[0;34m\u001b[0m\u001b[0;34m\u001b[0m\u001b[0m\n",
            "\u001b[0;31mKeyboardInterrupt\u001b[0m: "
          ]
        }
      ]
    },
    {
      "cell_type": "code",
      "metadata": {
        "id": "eC1qZfzfFlp6",
        "colab_type": "code",
        "colab": {
          "base_uri": "https://localhost:8080/",
          "height": 1000
        },
        "outputId": "15e66ba1-48be-4f40-d0d4-f0a320d5869f"
      },
      "source": [
        "model = create_cnn(\"max_pooling\")\n",
        "#optimizer = keras.optimizers.SGD(learning_rate=0.001,momentum=0.95)\n",
        "# step = tf.Variable(0, trainable=False)\n",
        "\n",
        "# boundaries = [20000, 40000]\n",
        "# values = [0.1, 0.01, 0.001]\n",
        "# learning_rate_fn= tf.keras.optimizers.schedules.PiecewiseConstantDecay(\n",
        "#     boundaries, values)\n",
        "\n",
        "# # Later, whenever we perform an optimization step, we pass in the step.\n",
        "# learning_rate = learning_rate_fn(step)\n",
        "optimizer = keras.optimizers.SGD(learning_rate = 0.001 , momentum=0.95)\n",
        "\n",
        "model.compile(optimizer='adam', loss='categorical_crossentropy', metrics=['accuracy'])\n",
        "\n",
        "# history_without_dropout=model.fit(X_train[:50000 ], y_train[:50000 , :],\n",
        "#           batch_size=100,\n",
        "#           epochs=15\n",
        "#           ,validation_data=(X_train[50000: , :], X_train[50000: , :]))\n",
        "\n",
        "history_max_pooling = model.fit(X_train , y_train , batch_size = 100 , epochs = 55 , validation_split=1/6)\n",
        "score = model.evaluate(X_test, y_test, verbose=0)\n",
        "print(\"Test loss:\", score[0])\n",
        "print(\"Test accuracy:\", score[1])"
      ],
      "execution_count": null,
      "outputs": [
        {
          "output_type": "stream",
          "text": [
            "Epoch 1/55\n",
            "417/417 [==============================] - 2s 5ms/step - loss: 1.8347 - accuracy: 0.3298 - val_loss: 1.8507 - val_accuracy: 0.3925\n",
            "Epoch 2/55\n",
            "417/417 [==============================] - 2s 4ms/step - loss: 1.5416 - accuracy: 0.4463 - val_loss: 1.7663 - val_accuracy: 0.4114\n",
            "Epoch 3/55\n",
            "417/417 [==============================] - 2s 4ms/step - loss: 1.4529 - accuracy: 0.4778 - val_loss: 1.7292 - val_accuracy: 0.3962\n",
            "Epoch 4/55\n",
            "417/417 [==============================] - 2s 4ms/step - loss: 1.3909 - accuracy: 0.5027 - val_loss: 1.7618 - val_accuracy: 0.3884\n",
            "Epoch 5/55\n",
            "417/417 [==============================] - 2s 4ms/step - loss: 1.3361 - accuracy: 0.5261 - val_loss: 1.6978 - val_accuracy: 0.3987\n",
            "Epoch 6/55\n",
            "417/417 [==============================] - 2s 4ms/step - loss: 1.2895 - accuracy: 0.5408 - val_loss: 1.6167 - val_accuracy: 0.4422\n",
            "Epoch 7/55\n",
            "417/417 [==============================] - 2s 4ms/step - loss: 1.2514 - accuracy: 0.5561 - val_loss: 1.6728 - val_accuracy: 0.4050\n",
            "Epoch 8/55\n",
            "417/417 [==============================] - 2s 4ms/step - loss: 1.2112 - accuracy: 0.5724 - val_loss: 1.7130 - val_accuracy: 0.3892\n",
            "Epoch 9/55\n",
            "417/417 [==============================] - 2s 4ms/step - loss: 1.1756 - accuracy: 0.5847 - val_loss: 1.6089 - val_accuracy: 0.4358\n",
            "Epoch 10/55\n",
            "417/417 [==============================] - 2s 4ms/step - loss: 1.1332 - accuracy: 0.5984 - val_loss: 1.6529 - val_accuracy: 0.4243\n",
            "Epoch 11/55\n",
            "417/417 [==============================] - 2s 4ms/step - loss: 1.1003 - accuracy: 0.6125 - val_loss: 1.6000 - val_accuracy: 0.4456\n",
            "Epoch 12/55\n",
            "417/417 [==============================] - 2s 4ms/step - loss: 1.0672 - accuracy: 0.6228 - val_loss: 1.5762 - val_accuracy: 0.4450\n",
            "Epoch 13/55\n",
            "417/417 [==============================] - 2s 4ms/step - loss: 1.0384 - accuracy: 0.6310 - val_loss: 1.5462 - val_accuracy: 0.4672\n",
            "Epoch 14/55\n",
            "417/417 [==============================] - 2s 4ms/step - loss: 1.0036 - accuracy: 0.6433 - val_loss: 1.5180 - val_accuracy: 0.4836\n",
            "Epoch 15/55\n",
            "417/417 [==============================] - 2s 4ms/step - loss: 0.9812 - accuracy: 0.6527 - val_loss: 1.5502 - val_accuracy: 0.4587\n",
            "Epoch 16/55\n",
            "417/417 [==============================] - 2s 4ms/step - loss: 0.9499 - accuracy: 0.6630 - val_loss: 1.5786 - val_accuracy: 0.4461\n",
            "Epoch 17/55\n",
            "417/417 [==============================] - 2s 5ms/step - loss: 0.9264 - accuracy: 0.6709 - val_loss: 1.5116 - val_accuracy: 0.4714\n",
            "Epoch 18/55\n",
            "417/417 [==============================] - 2s 5ms/step - loss: 0.9026 - accuracy: 0.6790 - val_loss: 1.5295 - val_accuracy: 0.4653\n",
            "Epoch 19/55\n",
            "417/417 [==============================] - 2s 5ms/step - loss: 0.8837 - accuracy: 0.6847 - val_loss: 1.6923 - val_accuracy: 0.4182\n",
            "Epoch 20/55\n",
            "417/417 [==============================] - 2s 5ms/step - loss: 0.8568 - accuracy: 0.6927 - val_loss: 1.4621 - val_accuracy: 0.4944\n",
            "Epoch 21/55\n",
            "417/417 [==============================] - 2s 5ms/step - loss: 0.8385 - accuracy: 0.7043 - val_loss: 1.6408 - val_accuracy: 0.4386\n",
            "Epoch 22/55\n",
            "417/417 [==============================] - 2s 5ms/step - loss: 0.8214 - accuracy: 0.7054 - val_loss: 1.5307 - val_accuracy: 0.4674\n",
            "Epoch 23/55\n",
            "417/417 [==============================] - 2s 4ms/step - loss: 0.7977 - accuracy: 0.7171 - val_loss: 1.5877 - val_accuracy: 0.4556\n",
            "Epoch 24/55\n",
            "417/417 [==============================] - 2s 4ms/step - loss: 0.7864 - accuracy: 0.7223 - val_loss: 1.5584 - val_accuracy: 0.4653\n",
            "Epoch 25/55\n",
            "417/417 [==============================] - 2s 4ms/step - loss: 0.7623 - accuracy: 0.7294 - val_loss: 1.5647 - val_accuracy: 0.4567\n",
            "Epoch 26/55\n",
            "417/417 [==============================] - 2s 4ms/step - loss: 0.7566 - accuracy: 0.7304 - val_loss: 1.5893 - val_accuracy: 0.4483\n",
            "Epoch 27/55\n",
            "417/417 [==============================] - 2s 5ms/step - loss: 0.7393 - accuracy: 0.7381 - val_loss: 1.5278 - val_accuracy: 0.4646\n",
            "Epoch 28/55\n",
            "417/417 [==============================] - 2s 4ms/step - loss: 0.7264 - accuracy: 0.7410 - val_loss: 1.4911 - val_accuracy: 0.4808\n",
            "Epoch 29/55\n",
            "417/417 [==============================] - 2s 4ms/step - loss: 0.7122 - accuracy: 0.7461 - val_loss: 1.5688 - val_accuracy: 0.4568\n",
            "Epoch 30/55\n",
            "417/417 [==============================] - 2s 4ms/step - loss: 0.6961 - accuracy: 0.7523 - val_loss: 1.4909 - val_accuracy: 0.4773\n",
            "Epoch 31/55\n",
            "417/417 [==============================] - 2s 4ms/step - loss: 0.6941 - accuracy: 0.7518 - val_loss: 1.5997 - val_accuracy: 0.4466\n",
            "Epoch 32/55\n",
            "417/417 [==============================] - 2s 4ms/step - loss: 0.6795 - accuracy: 0.7587 - val_loss: 1.6252 - val_accuracy: 0.4422\n",
            "Epoch 33/55\n",
            "417/417 [==============================] - 2s 4ms/step - loss: 0.6677 - accuracy: 0.7621 - val_loss: 1.5591 - val_accuracy: 0.4636\n",
            "Epoch 34/55\n",
            "417/417 [==============================] - 2s 5ms/step - loss: 0.6645 - accuracy: 0.7644 - val_loss: 1.5929 - val_accuracy: 0.4504\n",
            "Epoch 35/55\n",
            "417/417 [==============================] - 2s 4ms/step - loss: 0.6599 - accuracy: 0.7630 - val_loss: 1.5607 - val_accuracy: 0.4592\n",
            "Epoch 36/55\n",
            "417/417 [==============================] - 2s 4ms/step - loss: 0.6410 - accuracy: 0.7722 - val_loss: 1.5568 - val_accuracy: 0.4632\n",
            "Epoch 37/55\n",
            "417/417 [==============================] - 2s 4ms/step - loss: 0.6297 - accuracy: 0.7743 - val_loss: 1.5682 - val_accuracy: 0.4594\n",
            "Epoch 38/55\n",
            "417/417 [==============================] - 2s 5ms/step - loss: 0.6300 - accuracy: 0.7761 - val_loss: 1.5937 - val_accuracy: 0.4605\n",
            "Epoch 39/55\n",
            "417/417 [==============================] - 2s 4ms/step - loss: 0.6132 - accuracy: 0.7854 - val_loss: 1.6025 - val_accuracy: 0.4515\n",
            "Epoch 40/55\n",
            "417/417 [==============================] - 2s 4ms/step - loss: 0.6101 - accuracy: 0.7823 - val_loss: 1.5675 - val_accuracy: 0.4638\n",
            "Epoch 41/55\n",
            "417/417 [==============================] - 2s 4ms/step - loss: 0.6069 - accuracy: 0.7851 - val_loss: 1.5047 - val_accuracy: 0.4791\n",
            "Epoch 42/55\n",
            "417/417 [==============================] - 2s 4ms/step - loss: 0.5922 - accuracy: 0.7888 - val_loss: 1.5358 - val_accuracy: 0.4832\n",
            "Epoch 43/55\n",
            "417/417 [==============================] - 2s 4ms/step - loss: 0.5900 - accuracy: 0.7922 - val_loss: 1.5795 - val_accuracy: 0.4714\n",
            "Epoch 44/55\n",
            "417/417 [==============================] - 2s 4ms/step - loss: 0.5786 - accuracy: 0.7953 - val_loss: 1.5241 - val_accuracy: 0.4766\n",
            "Epoch 45/55\n",
            "417/417 [==============================] - 2s 4ms/step - loss: 0.5781 - accuracy: 0.7929 - val_loss: 1.6879 - val_accuracy: 0.4396\n",
            "Epoch 46/55\n",
            "417/417 [==============================] - 2s 4ms/step - loss: 0.5636 - accuracy: 0.7973 - val_loss: 1.5984 - val_accuracy: 0.4562\n",
            "Epoch 47/55\n",
            "417/417 [==============================] - 2s 4ms/step - loss: 0.5688 - accuracy: 0.7974 - val_loss: 1.6161 - val_accuracy: 0.4537\n",
            "Epoch 48/55\n",
            "417/417 [==============================] - 2s 5ms/step - loss: 0.5607 - accuracy: 0.8004 - val_loss: 1.5678 - val_accuracy: 0.4708\n",
            "Epoch 49/55\n",
            "417/417 [==============================] - 2s 5ms/step - loss: 0.5581 - accuracy: 0.8031 - val_loss: 1.4895 - val_accuracy: 0.4916\n",
            "Epoch 50/55\n",
            "417/417 [==============================] - 2s 4ms/step - loss: 0.5575 - accuracy: 0.8002 - val_loss: 1.5759 - val_accuracy: 0.4620\n",
            "Epoch 51/55\n",
            "417/417 [==============================] - 2s 4ms/step - loss: 0.5424 - accuracy: 0.8080 - val_loss: 1.6597 - val_accuracy: 0.4472\n",
            "Epoch 52/55\n",
            "417/417 [==============================] - 2s 4ms/step - loss: 0.5433 - accuracy: 0.8060 - val_loss: 1.5968 - val_accuracy: 0.4542\n",
            "Epoch 53/55\n",
            "417/417 [==============================] - 2s 4ms/step - loss: 0.5346 - accuracy: 0.8107 - val_loss: 1.5838 - val_accuracy: 0.4693\n",
            "Epoch 54/55\n",
            "417/417 [==============================] - 2s 4ms/step - loss: 0.5342 - accuracy: 0.8127 - val_loss: 1.6137 - val_accuracy: 0.4527\n",
            "Epoch 55/55\n",
            "417/417 [==============================] - 2s 4ms/step - loss: 0.5244 - accuracy: 0.8139 - val_loss: 1.6530 - val_accuracy: 0.4503\n",
            "Test loss: 1.646574854850769\n",
            "Test accuracy: 0.45170000195503235\n"
          ],
          "name": "stdout"
        }
      ]
    },
    {
      "cell_type": "code",
      "metadata": {
        "id": "d4TDDcZ-eM4-",
        "colab_type": "code",
        "colab": {
          "base_uri": "https://localhost:8080/",
          "height": 1000
        },
        "outputId": "d3cccd4a-a2c3-4f62-9cc0-e6dc3dfa9db7"
      },
      "source": [
        "model = create_cnn(\"scaled_max_pooling\")\n",
        "#optimizer = keras.optimizers.SGD(learning_rate=0.001,momentum=0.95)\n",
        "# step = tf.Variable(0, trainable=False)\n",
        "\n",
        "# boundaries = [20000, 40000]\n",
        "# values = [0.1, 0.01, 0.001]\n",
        "# learning_rate_fn= tf.keras.optimizers.schedules.PiecewiseConstantDecay(\n",
        "#     boundaries, values)\n",
        "\n",
        "# # Later, whenever we perform an optimization step, we pass in the step.\n",
        "# learning_rate = learning_rate_fn(step)\n",
        "optimizer = keras.optimizers.SGD(learning_rate = 0.001 , momentum=0.95)\n",
        "\n",
        "model.compile(optimizer='adam', loss='categorical_crossentropy', metrics=['accuracy'])\n",
        "\n",
        "# history_without_dropout=model.fit(X_train[:50000 ], y_train[:50000 , :],\n",
        "#           batch_size=100,\n",
        "#           epochs=15\n",
        "#           ,validation_data=(X_train[50000: , :], X_train[50000: , :]))\n",
        "\n",
        "history_scaled_max_pooling = model.fit(X_train , y_train , batch_size = 100 , epochs = 55 , validation_split=1/6)\n",
        "score = model.evaluate(X_test, y_test, verbose=0)\n",
        "print(\"Test loss:\", score[0])\n",
        "print(\"Test accuracy:\", score[1])"
      ],
      "execution_count": null,
      "outputs": [
        {
          "output_type": "stream",
          "text": [
            "Epoch 1/55\n",
            "417/417 [==============================] - 5s 11ms/step - loss: 1.8058 - accuracy: 0.3394 - val_loss: 1.9754 - val_accuracy: 0.2642\n",
            "Epoch 2/55\n",
            "417/417 [==============================] - 4s 10ms/step - loss: 1.5899 - accuracy: 0.4220 - val_loss: 1.9684 - val_accuracy: 0.2846\n",
            "Epoch 3/55\n",
            "417/417 [==============================] - 4s 10ms/step - loss: 1.5132 - accuracy: 0.4514 - val_loss: 1.9234 - val_accuracy: 0.2802\n",
            "Epoch 4/55\n",
            "417/417 [==============================] - 4s 10ms/step - loss: 1.4555 - accuracy: 0.4756 - val_loss: 1.9123 - val_accuracy: 0.2819\n",
            "Epoch 5/55\n",
            "417/417 [==============================] - 4s 10ms/step - loss: 1.4103 - accuracy: 0.4918 - val_loss: 2.0906 - val_accuracy: 0.2307\n",
            "Epoch 6/55\n",
            "417/417 [==============================] - 4s 10ms/step - loss: 1.3647 - accuracy: 0.5075 - val_loss: 2.0084 - val_accuracy: 0.2647\n",
            "Epoch 7/55\n",
            "417/417 [==============================] - 4s 10ms/step - loss: 1.3284 - accuracy: 0.5252 - val_loss: 1.8406 - val_accuracy: 0.3164\n",
            "Epoch 8/55\n",
            "417/417 [==============================] - 4s 10ms/step - loss: 1.2899 - accuracy: 0.5391 - val_loss: 1.9913 - val_accuracy: 0.2694\n",
            "Epoch 9/55\n",
            "417/417 [==============================] - 4s 10ms/step - loss: 1.2515 - accuracy: 0.5540 - val_loss: 1.9008 - val_accuracy: 0.3077\n",
            "Epoch 10/55\n",
            "417/417 [==============================] - 4s 10ms/step - loss: 1.2163 - accuracy: 0.5676 - val_loss: 1.9631 - val_accuracy: 0.3045\n",
            "Epoch 11/55\n",
            "417/417 [==============================] - 4s 10ms/step - loss: 1.1829 - accuracy: 0.5796 - val_loss: 1.9212 - val_accuracy: 0.3035\n",
            "Epoch 12/55\n",
            "417/417 [==============================] - 4s 10ms/step - loss: 1.1475 - accuracy: 0.5924 - val_loss: 2.0318 - val_accuracy: 0.2919\n",
            "Epoch 13/55\n",
            "417/417 [==============================] - 4s 10ms/step - loss: 1.1207 - accuracy: 0.6021 - val_loss: 1.9883 - val_accuracy: 0.2993\n",
            "Epoch 14/55\n",
            "417/417 [==============================] - 4s 10ms/step - loss: 1.0893 - accuracy: 0.6126 - val_loss: 2.0699 - val_accuracy: 0.2783\n",
            "Epoch 15/55\n",
            "417/417 [==============================] - 4s 10ms/step - loss: 1.0602 - accuracy: 0.6224 - val_loss: 2.1667 - val_accuracy: 0.2706\n",
            "Epoch 16/55\n",
            "417/417 [==============================] - 4s 10ms/step - loss: 1.0321 - accuracy: 0.6343 - val_loss: 2.0148 - val_accuracy: 0.3061\n",
            "Epoch 17/55\n",
            "417/417 [==============================] - 4s 10ms/step - loss: 1.0066 - accuracy: 0.6406 - val_loss: 1.9972 - val_accuracy: 0.3277\n",
            "Epoch 18/55\n",
            "417/417 [==============================] - 4s 10ms/step - loss: 0.9867 - accuracy: 0.6496 - val_loss: 2.1783 - val_accuracy: 0.2849\n",
            "Epoch 19/55\n",
            "417/417 [==============================] - 4s 10ms/step - loss: 0.9599 - accuracy: 0.6579 - val_loss: 2.0396 - val_accuracy: 0.3026\n",
            "Epoch 20/55\n",
            "417/417 [==============================] - 4s 10ms/step - loss: 0.9388 - accuracy: 0.6633 - val_loss: 2.0360 - val_accuracy: 0.3239\n",
            "Epoch 21/55\n",
            "417/417 [==============================] - 4s 9ms/step - loss: 0.9171 - accuracy: 0.6735 - val_loss: 1.9360 - val_accuracy: 0.3434\n",
            "Epoch 22/55\n",
            "417/417 [==============================] - 4s 9ms/step - loss: 0.8969 - accuracy: 0.6807 - val_loss: 2.0175 - val_accuracy: 0.3301\n",
            "Epoch 23/55\n",
            "417/417 [==============================] - 4s 10ms/step - loss: 0.8800 - accuracy: 0.6873 - val_loss: 2.1038 - val_accuracy: 0.3158\n",
            "Epoch 24/55\n",
            "417/417 [==============================] - 4s 10ms/step - loss: 0.8589 - accuracy: 0.6930 - val_loss: 2.1864 - val_accuracy: 0.3083\n",
            "Epoch 25/55\n",
            "417/417 [==============================] - 4s 9ms/step - loss: 0.8454 - accuracy: 0.6955 - val_loss: 2.0897 - val_accuracy: 0.3183\n",
            "Epoch 26/55\n",
            "417/417 [==============================] - 4s 9ms/step - loss: 0.8250 - accuracy: 0.7039 - val_loss: 2.1489 - val_accuracy: 0.3060\n",
            "Epoch 27/55\n",
            "417/417 [==============================] - 4s 10ms/step - loss: 0.8102 - accuracy: 0.7085 - val_loss: 2.1264 - val_accuracy: 0.3227\n",
            "Epoch 28/55\n",
            "417/417 [==============================] - 4s 9ms/step - loss: 0.7904 - accuracy: 0.7164 - val_loss: 2.1400 - val_accuracy: 0.3139\n",
            "Epoch 29/55\n",
            "417/417 [==============================] - 4s 9ms/step - loss: 0.7711 - accuracy: 0.7244 - val_loss: 1.9654 - val_accuracy: 0.3482\n",
            "Epoch 30/55\n",
            "417/417 [==============================] - 4s 9ms/step - loss: 0.7629 - accuracy: 0.7278 - val_loss: 2.1166 - val_accuracy: 0.3317\n",
            "Epoch 31/55\n",
            "417/417 [==============================] - 4s 9ms/step - loss: 0.7453 - accuracy: 0.7328 - val_loss: 2.0217 - val_accuracy: 0.3421\n",
            "Epoch 32/55\n",
            "417/417 [==============================] - 4s 9ms/step - loss: 0.7393 - accuracy: 0.7343 - val_loss: 1.9880 - val_accuracy: 0.3584\n",
            "Epoch 33/55\n",
            "417/417 [==============================] - 4s 9ms/step - loss: 0.7278 - accuracy: 0.7410 - val_loss: 2.0980 - val_accuracy: 0.3329\n",
            "Epoch 34/55\n",
            "417/417 [==============================] - 4s 9ms/step - loss: 0.7177 - accuracy: 0.7417 - val_loss: 2.1051 - val_accuracy: 0.3379\n",
            "Epoch 35/55\n",
            "417/417 [==============================] - 4s 9ms/step - loss: 0.6985 - accuracy: 0.7493 - val_loss: 2.1412 - val_accuracy: 0.3378\n",
            "Epoch 36/55\n",
            "417/417 [==============================] - 4s 9ms/step - loss: 0.6981 - accuracy: 0.7483 - val_loss: 2.0946 - val_accuracy: 0.3404\n",
            "Epoch 37/55\n",
            "417/417 [==============================] - 4s 9ms/step - loss: 0.6769 - accuracy: 0.7587 - val_loss: 2.1237 - val_accuracy: 0.3399\n",
            "Epoch 38/55\n",
            "417/417 [==============================] - 4s 9ms/step - loss: 0.6714 - accuracy: 0.7581 - val_loss: 2.0577 - val_accuracy: 0.3498\n",
            "Epoch 39/55\n",
            "417/417 [==============================] - 4s 9ms/step - loss: 0.6637 - accuracy: 0.7618 - val_loss: 2.0009 - val_accuracy: 0.3619\n",
            "Epoch 40/55\n",
            "417/417 [==============================] - 4s 9ms/step - loss: 0.6494 - accuracy: 0.7660 - val_loss: 2.1160 - val_accuracy: 0.3415\n",
            "Epoch 41/55\n",
            "417/417 [==============================] - 4s 9ms/step - loss: 0.6457 - accuracy: 0.7683 - val_loss: 2.1511 - val_accuracy: 0.3303\n",
            "Epoch 42/55\n",
            "417/417 [==============================] - 4s 9ms/step - loss: 0.6377 - accuracy: 0.7703 - val_loss: 2.0622 - val_accuracy: 0.3547\n",
            "Epoch 43/55\n",
            "417/417 [==============================] - 4s 9ms/step - loss: 0.6207 - accuracy: 0.7761 - val_loss: 2.0620 - val_accuracy: 0.3551\n",
            "Epoch 44/55\n",
            "417/417 [==============================] - 4s 9ms/step - loss: 0.6204 - accuracy: 0.7769 - val_loss: 2.3974 - val_accuracy: 0.3103\n",
            "Epoch 45/55\n",
            "417/417 [==============================] - 4s 9ms/step - loss: 0.6100 - accuracy: 0.7809 - val_loss: 2.2339 - val_accuracy: 0.3333\n",
            "Epoch 46/55\n",
            "417/417 [==============================] - 4s 9ms/step - loss: 0.5971 - accuracy: 0.7842 - val_loss: 2.2713 - val_accuracy: 0.3335\n",
            "Epoch 47/55\n",
            "417/417 [==============================] - 4s 9ms/step - loss: 0.6024 - accuracy: 0.7826 - val_loss: 2.2320 - val_accuracy: 0.3312\n",
            "Epoch 48/55\n",
            "417/417 [==============================] - 4s 10ms/step - loss: 0.5849 - accuracy: 0.7897 - val_loss: 2.2853 - val_accuracy: 0.3243\n",
            "Epoch 49/55\n",
            "417/417 [==============================] - 4s 10ms/step - loss: 0.5880 - accuracy: 0.7899 - val_loss: 2.2002 - val_accuracy: 0.3404\n",
            "Epoch 50/55\n",
            "417/417 [==============================] - 4s 10ms/step - loss: 0.5745 - accuracy: 0.7932 - val_loss: 2.2909 - val_accuracy: 0.3434\n",
            "Epoch 51/55\n",
            "417/417 [==============================] - 4s 10ms/step - loss: 0.5749 - accuracy: 0.7929 - val_loss: 2.1439 - val_accuracy: 0.3511\n",
            "Epoch 52/55\n",
            "417/417 [==============================] - 4s 10ms/step - loss: 0.5617 - accuracy: 0.7998 - val_loss: 2.0347 - val_accuracy: 0.3715\n",
            "Epoch 53/55\n",
            "417/417 [==============================] - 4s 10ms/step - loss: 0.5606 - accuracy: 0.7983 - val_loss: 2.2044 - val_accuracy: 0.3445\n",
            "Epoch 54/55\n",
            "417/417 [==============================] - 4s 9ms/step - loss: 0.5506 - accuracy: 0.8019 - val_loss: 2.2575 - val_accuracy: 0.3350\n",
            "Epoch 55/55\n",
            "417/417 [==============================] - 4s 9ms/step - loss: 0.5571 - accuracy: 0.7993 - val_loss: 2.2037 - val_accuracy: 0.3458\n",
            "Test loss: 2.183706283569336\n",
            "Test accuracy: 0.34929999709129333\n"
          ],
          "name": "stdout"
        }
      ]
    },
    {
      "cell_type": "code",
      "metadata": {
        "id": "5stLSmuYFlp_",
        "colab_type": "code",
        "colab": {
          "base_uri": "https://localhost:8080/",
          "height": 249
        },
        "outputId": "3b0cc440-876c-44b7-ca2d-2bfd651317f4"
      },
      "source": [
        "\n",
        "plt.plot(history_without_dropout.history['loss'])\n",
        "# plt.plot(history_without_dropout.history['val_loss'])\n",
        "plt.ylabel('loss')\n",
        "plt.xlabel('epoch')\n",
        "# plt.legend(['train_without_loss'])\n",
        "plt.plot(history_scaled_max_pooling.history['loss'])\n",
        "plt.plot(history_max_pooling.history['loss'])\n",
        "# plt.plot(history_max_pooling.history['val_loss'])\n",
        "plt.legend(['train_without_dropout' , 'train_scaled_max_pooling' , 'train_max_pooling'])\n",
        "plt.show()\n",
        "\n",
        "# plt.plot(history_without_dropout.history['loss'])\n",
        "plt.plot(history_without_dropout.history['val_loss'])\n",
        "plt.ylabel('loss')\n",
        "plt.xlabel('epoch')\n",
        "# plt.legend(['val_without_loss'])\n",
        "\n",
        "# plt.plot(history_max_pooling.history['loss'])\n",
        "plt.plot(history_scaled_max_pooling.history['val_loss'])\n",
        "plt.plot(history_max_pooling.history['val_loss'])\n",
        "plt.legend(['val_without_dropout' ,\"val_scaled_max_pooling\", 'val_max_pooling'])\n",
        "plt.show()\n",
        "\n",
        "\n",
        "\n",
        "\n",
        "plt.plot(history_without_dropout.history['loss'])\n",
        "plt.plot(history_without_dropout.history['val_loss'])\n",
        "plt.ylabel('loss')\n",
        "plt.xlabel('epoch')\n",
        "plt.title(\"without drop out\")\n",
        "plt.legend(['train_loss' , 'validation_loss'])\n",
        "plt.show()\n",
        "\n",
        "plt.plot(history_max_pooling.history['loss'])\n",
        "plt.plot(history_max_pooling.history['val_loss'])\n",
        "plt.ylabel('loss')\n",
        "plt.xlabel('epoch')\n",
        "plt.title(\"max pooling\")\n",
        "plt.legend(['train_loss' , 'validation_loss'])\n",
        "plt.show()\n"
      ],
      "execution_count": null,
      "outputs": [
        {
          "output_type": "error",
          "ename": "NameError",
          "evalue": "ignored",
          "traceback": [
            "\u001b[0;31m---------------------------------------------------------------------------\u001b[0m",
            "\u001b[0;31mNameError\u001b[0m                                 Traceback (most recent call last)",
            "\u001b[0;32m<ipython-input-11-e3408fd4162f>\u001b[0m in \u001b[0;36m<module>\u001b[0;34m()\u001b[0m\n\u001b[1;32m      1\u001b[0m \u001b[0;34m\u001b[0m\u001b[0m\n\u001b[0;32m----> 2\u001b[0;31m \u001b[0mplt\u001b[0m\u001b[0;34m.\u001b[0m\u001b[0mplot\u001b[0m\u001b[0;34m(\u001b[0m\u001b[0mhistory_without_dropout\u001b[0m\u001b[0;34m.\u001b[0m\u001b[0mhistory\u001b[0m\u001b[0;34m[\u001b[0m\u001b[0;34m'loss'\u001b[0m\u001b[0;34m]\u001b[0m\u001b[0;34m)\u001b[0m\u001b[0;34m\u001b[0m\u001b[0;34m\u001b[0m\u001b[0m\n\u001b[0m\u001b[1;32m      3\u001b[0m \u001b[0;31m# plt.plot(history_without_dropout.history['val_loss'])\u001b[0m\u001b[0;34m\u001b[0m\u001b[0;34m\u001b[0m\u001b[0;34m\u001b[0m\u001b[0m\n\u001b[1;32m      4\u001b[0m \u001b[0mplt\u001b[0m\u001b[0;34m.\u001b[0m\u001b[0mylabel\u001b[0m\u001b[0;34m(\u001b[0m\u001b[0;34m'loss'\u001b[0m\u001b[0;34m)\u001b[0m\u001b[0;34m\u001b[0m\u001b[0;34m\u001b[0m\u001b[0m\n\u001b[1;32m      5\u001b[0m \u001b[0mplt\u001b[0m\u001b[0;34m.\u001b[0m\u001b[0mxlabel\u001b[0m\u001b[0;34m(\u001b[0m\u001b[0;34m'epoch'\u001b[0m\u001b[0;34m)\u001b[0m\u001b[0;34m\u001b[0m\u001b[0;34m\u001b[0m\u001b[0m\n",
            "\u001b[0;31mNameError\u001b[0m: name 'history_without_dropout' is not defined"
          ]
        }
      ]
    },
    {
      "cell_type": "code",
      "metadata": {
        "id": "Cz6cnqTwFlqE",
        "colab_type": "code",
        "colab": {}
      },
      "source": [
        "model.evaluate(X_test, y_test, batch_size=250)"
      ],
      "execution_count": null,
      "outputs": []
    },
    {
      "cell_type": "markdown",
      "metadata": {
        "id": "-f0Yuw2JFlqH",
        "colab_type": "text"
      },
      "source": [
        "<span style=\"color:purple;font-size:3em;\">**Cfar10-convl-implement like paper**\n",
        "</span>"
      ]
    },
    {
      "cell_type": "code",
      "metadata": {
        "id": "D4yDOYJ3FlqK",
        "colab_type": "code",
        "colab": {}
      },
      "source": [
        "\n",
        "from tensorflow import keras\n",
        "import numpy as np\n",
        "import matplotlib.pyplot as plt\n",
        "import tensorflow as tf\n",
        "import keras\n",
        "from keras import initializers\n",
        "from keras.datasets import cifar10\n",
        "from keras.models import Sequential\n",
        "from keras.layers import  Dense,Activation,Conv2D, MaxPooling2D, Flatten,BatchNormalization,Dropout\n",
        "image_size = 32\n",
        "num_channels = 3\n",
        "num_features = image_size * image_size * num_channels\n",
        "num_classes = 10\n",
        "\n",
        "num_train = 49000"
      ],
      "execution_count": null,
      "outputs": []
    },
    {
      "cell_type": "code",
      "metadata": {
        "id": "nkG0vv0CFlqO",
        "colab_type": "code",
        "colab": {
          "base_uri": "https://localhost:8080/",
          "height": 129
        },
        "outputId": "e97a7f00-14bc-4427-eca5-cec6d6b7e3b1"
      },
      "source": [
        "(X_train, y_train), (X_test, y_test) = cifar10.load_data()\n",
        "\n",
        "print('Train data shape: {}'.format(X_train.shape))\n",
        "print('Test  data shape: {}'.format(X_test.shape))\n",
        "\n",
        "X_train = X_train.astype('float32')\n",
        "X_test = X_test.astype('float32')\n",
        "X_train /= 255\n",
        "X_test /= 255\n",
        "print(X_train.shape)\n",
        "print(X_train.shape[1:])"
      ],
      "execution_count": null,
      "outputs": [
        {
          "output_type": "stream",
          "text": [
            "Downloading data from https://www.cs.toronto.edu/~kriz/cifar-10-python.tar.gz\n",
            "170500096/170498071 [==============================] - 3s 0us/step\n",
            "Train data shape: (50000, 32, 32, 3)\n",
            "Test  data shape: (10000, 32, 32, 3)\n",
            "(50000, 32, 32, 3)\n",
            "(32, 32, 3)\n"
          ],
          "name": "stdout"
        }
      ]
    },
    {
      "cell_type": "code",
      "metadata": {
        "id": "LLamIUWSFlqS",
        "colab_type": "code",
        "colab": {
          "base_uri": "https://localhost:8080/",
          "height": 73
        },
        "outputId": "05c5b17e-0564-4983-fd8c-ebe486b8cb61"
      },
      "source": [
        "y_train = keras.utils.to_categorical(y_train, num_classes)\n",
        "y_test  = keras.utils.to_categorical(y_test,  num_classes)\n",
        "\n",
        "print(y_train.shape)\n",
        "print(y_test.shape)\n",
        "#########   !!!\n",
        "print((num_features,))\n"
      ],
      "execution_count": null,
      "outputs": [
        {
          "output_type": "stream",
          "text": [
            "(50000, 10)\n",
            "(10000, 10)\n",
            "(3072,)\n"
          ],
          "name": "stdout"
        }
      ]
    },
    {
      "cell_type": "code",
      "metadata": {
        "id": "DOXJxoNcmctP",
        "colab_type": "code",
        "colab": {}
      },
      "source": [
        "from keras import backend as K \n",
        "from keras.layers import Layer\n",
        "import tensorflow as tf\n",
        "import tensorflow.compat.v1 as tf\n",
        "import time\n",
        "class OptimizedDroupout(Layer): \n",
        "   def __init__(self, keep_prob, **kwargs): \n",
        "      self.keep_prob = keep_prob\n",
        "      super(OptimizedDroupout, self).__init__(**kwargs) \n",
        "\n",
        "   def build(self, input_shape): \n",
        "      super(OptimizedDroupout, self).build(input_shape) # Be sure to call this at the end \n",
        "\n",
        "   def call(self, input_data): \n",
        "      mean =  tf.reduce_mean(input_data, axis=-1, keepdims=True)\n",
        "      tf.print(input_data)\n",
        "      tf.print(mean)\n",
        "      # time.sleep(30)\n",
        "      # with tf.Session() as sess:  print(mean.eval())       # print(\"emad\")\n",
        "      return input_data\n",
        "      # return K.dot(input_data, self.kernel) \n",
        "   \n"
      ],
      "execution_count": null,
      "outputs": []
    },
    {
      "cell_type": "code",
      "metadata": {
        "id": "farR_iWVFlqf",
        "colab_type": "code",
        "colab": {}
      },
      "source": [
        "def create_cnn2(model_name):\n",
        "    model = Sequential()\n",
        "    if(model_name==\"without_dropout\"):\n",
        "        #######################################  without_dropout  ##################   \n",
        "            \n",
        "        # Conv Block 1 \n",
        "        model.add(Conv2D(96, kernel_size=(5,5), padding='same', input_shape=X_train.shape[1:], activation='relu', kernel_initializer=initializers.RandomNormal(stddev=0.01),\n",
        "        bias_initializer=initializers.Zeros()))\n",
        "        model.add(MaxPooling2D(pool_size=(3,3),strides=2))\n",
        "\n",
        "        # Conv Block 2\n",
        "        model.add(Conv2D(128,kernel_size=(3,3), padding='same', activation='relu'))\n",
        "        model.add(MaxPooling2D(pool_size=(3,3),strides=2))\n",
        "\n",
        "        # Conv Block 3\n",
        "        model.add(Conv2D(256,kernel_size=(3,3), padding='same', activation='relu'))\n",
        "        model.add(MaxPooling2D(pool_size=(3,3),strides=2))\n",
        "\n",
        "        # Classifier\n",
        "        model.add(Flatten())\n",
        "        model.add(Dense(2000, activation='relu'))\n",
        "        model.add(Dense(2000, activation='relu'))\n",
        "        model.add(Dense(num_classes, activation='softmax'))\n",
        "        \n",
        "       ####################################################### max_pooling##################   \n",
        "   \n",
        "    elif(model_name==\"max_pooling\"):\n",
        "                              \n",
        "        # Conv Block 1 \n",
        "        model.add(Conv2D(96, kernel_size=(5,5), padding='same', input_shape=X_train.shape[1:], activation='relu', kernel_initializer=initializers.RandomNormal(stddev=0.01),\n",
        "        bias_initializer=initializers.Zeros()))\n",
        "        model.add(Dropout(0.7))\n",
        "        model.add(MaxPooling2D(pool_size=(3,3),strides=2))\n",
        "\n",
        "        # Conv Block 2\n",
        "        model.add(Conv2D(128,kernel_size=(3,3), padding='same', activation='relu'))\n",
        "        model.add(Dropout(0.5))\n",
        "        model.add(MaxPooling2D(pool_size=(3,3),strides=2))\n",
        "        \n",
        "        # Conv Block 3\n",
        "        model.add(Conv2D(256,kernel_size=(3,3), padding='same', activation='relu'))\n",
        "        model.add(Dropout(0.3))\n",
        "        model.add(MaxPooling2D(pool_size=(3,3),strides=2))\n",
        "       \n",
        "        # Classifier\n",
        "        model.add(Flatten())\n",
        "        model.add(Dense(2000, activation='relu'))\n",
        "        model.add(Dense(2000, activation='relu'))\n",
        "        model.add(Dense(num_classes, activation='softmax'))\n",
        "         ####################################################### max_pooling##################   \n",
        "\n",
        "    elif(model_name==\"optimized_dropout\"):\n",
        "\n",
        "        # Conv Block 1 \n",
        "        model.add(Conv2D(96, kernel_size=(5,5), padding='same', input_shape=X_train.shape[1:], activation='relu', kernel_initializer=initializers.RandomNormal(stddev=0.01),\n",
        "        bias_initializer=initializers.Zeros()))\n",
        "        model.add(Dropout(0.7))\n",
        "        model.add(OptimizedDroupout(0.7))\n",
        "        model.add(MaxPooling2D(pool_size=(3,3),strides=2))\n",
        "\n",
        "        # Conv Block 2\n",
        "        model.add(Conv2D(128,kernel_size=(3,3), padding='same', activation='relu'))\n",
        "        model.add(Dropout(0.5))\n",
        "        model.add(MaxPooling2D(pool_size=(3,3),strides=2))\n",
        "        \n",
        "        # Conv Block 3\n",
        "        model.add(Conv2D(256,kernel_size=(3,3), padding='same', activation='relu'))\n",
        "        model.add(Dropout(0.3))\n",
        "        model.add(MaxPooling2D(pool_size=(3,3),strides=2))\n",
        "       \n",
        "        # Classifier\n",
        "        model.add(Flatten())\n",
        "        model.add(Dense(2000, activation='relu'))\n",
        "        model.add(Dense(2000, activation='relu'))\n",
        "        model.add(Dense(num_classes, activation='softmax'))\n",
        "        \n",
        "    return model\n",
        "\n",
        "\n",
        "\n",
        "#print model\n",
        "# model.summary()"
      ],
      "execution_count": null,
      "outputs": []
    },
    {
      "cell_type": "code",
      "metadata": {
        "id": "9GnI8nfsFlqk",
        "colab_type": "code",
        "colab": {}
      },
      "source": [
        "model = create_cnn2(\"optimized_dropout\")\n",
        "#optimizer = keras.optimizers.SGD(learning_rate=0.001,momentum=0.95)\n",
        "'''step = tf.Variable(0, trainable=False)\n",
        "\n",
        "boundaries = [20000, 40000]\n",
        "values = [0.1, 0.01, 0.001]\n",
        "learning_rate_fn= tf.keras.optimizers.schedules.PiecewiseConstantDecay(\n",
        "    boundaries, values)\n",
        "'''\n",
        "#optimizer = keras.optimizers.SGD(learning_rate=0.001,momentum=0.95)\n",
        "optimizer = keras.optimizers.SGD(learning_rate=0.01 , momentum = 0.95)\n",
        "\n",
        "model.compile(optimizer=optimizer, loss='categorical_crossentropy', metrics=['accuracy'])\n",
        "\n",
        "history_max_pooling=model.fit(X_train, y_train,\n",
        "          batch_size=100,\n",
        "          epochs=5\n",
        "          ,validation_data=(X_test, y_test))\n",
        "          "
      ],
      "execution_count": null,
      "outputs": []
    },
    {
      "cell_type": "code",
      "metadata": {
        "id": "qmYmLTvrFlqo",
        "colab_type": "code",
        "colab": {
          "base_uri": "https://localhost:8080/",
          "height": 243
        },
        "outputId": "db117d37-4937-4791-9027-c640a1c87218"
      },
      "source": [
        "model = create_cnn2(\"max_pooling\")\n",
        "#optimizer = keras.optimizers.SGD(learning_rate=0.001,momentum=0.95)\n",
        "optimizer = keras.optimizers.SGD(learning_rate=0.01 , momentum = 0.95)\n",
        "\n",
        "model.compile(optimizer=optimizer, loss='categorical_crossentropy', metrics=['accuracy'])\n",
        "\n",
        "history_max_pooling=model.fit(X_train, y_train,\n",
        "          batch_size=100,\n",
        "          epochs=5\n",
        "          ,validation_data=(X_test, y_test))"
      ],
      "execution_count": null,
      "outputs": [
        {
          "output_type": "stream",
          "text": [
            "Epoch 1/5\n",
            "  1/500 [..............................] - ETA: 9s - loss: 2.3024 - accuracy: 0.1300WARNING:tensorflow:Callbacks method `on_train_batch_end` is slow compared to the batch time (batch time: 0.0052s vs `on_train_batch_end` time: 0.0176s). Check your callbacks.\n",
            "500/500 [==============================] - 9s 17ms/step - loss: 1.8022 - accuracy: 0.3376 - val_loss: 2.2430 - val_accuracy: 0.1890\n",
            "Epoch 2/5\n",
            "500/500 [==============================] - 8s 17ms/step - loss: 1.4592 - accuracy: 0.4738 - val_loss: 2.1977 - val_accuracy: 0.1748\n",
            "Epoch 3/5\n",
            "500/500 [==============================] - 8s 17ms/step - loss: 1.3234 - accuracy: 0.5248 - val_loss: 2.1771 - val_accuracy: 0.2538\n",
            "Epoch 4/5\n",
            "500/500 [==============================] - 8s 17ms/step - loss: 1.2320 - accuracy: 0.5632 - val_loss: 2.1649 - val_accuracy: 0.2400\n",
            "Epoch 5/5\n",
            "500/500 [==============================] - 8s 17ms/step - loss: 1.1509 - accuracy: 0.5909 - val_loss: 2.0054 - val_accuracy: 0.3119\n"
          ],
          "name": "stdout"
        }
      ]
    },
    {
      "cell_type": "code",
      "metadata": {
        "id": "4qUQ9ReeFlqt",
        "colab_type": "code",
        "colab": {
          "base_uri": "https://localhost:8080/",
          "height": 560
        },
        "outputId": "606e0155-fe2a-4dbd-a8c4-e399992ad79a"
      },
      "source": [
        "\n",
        "plt.plot(history_optimized_dropout.history['loss'])\n",
        "# plt.plot(history_without_dropout.history['val_loss'])\n",
        "plt.ylabel('loss')\n",
        "plt.xlabel('epoch')\n",
        "# plt.legend(['train_without_loss'])\n",
        "\n",
        "plt.plot(history_max_pooling.history['loss'])\n",
        "# plt.plot(history_max_pooling.history['val_loss'])\n",
        "plt.legend(['train_without_dropout' , 'train_max_pooling'])\n",
        "plt.show()\n",
        "\n",
        "# plt.plot(history_without_dropout.history['loss'])\n",
        "plt.plot(history_optimized_dropout.history['val_loss'])\n",
        "plt.ylabel('loss')\n",
        "plt.xlabel('epoch')\n",
        "# plt.legend(['val_without_loss'])\n",
        "\n",
        "# plt.plot(history_max_pooling.history['loss'])\n",
        "plt.plot(history_max_pooling.history['val_loss'])\n",
        "plt.legend(['val_without_dropout' , 'val_max_pooling'])"
      ],
      "execution_count": null,
      "outputs": [
        {
          "output_type": "display_data",
          "data": {
            "image/png": "[encoded data removed]",
            "text/plain": [
              "<Figure size 432x288 with 1 Axes>"
            ]
          },
          "metadata": {
            "tags": [],
            "needs_background": "light"
          }
        },
        {
          "output_type": "execute_result",
          "data": {
            "text/plain": [
              "<matplotlib.legend.Legend at 0x7fcad013c6a0>"
            ]
          },
          "metadata": {
            "tags": []
          },
          "execution_count": 52
        },
        {
          "output_type": "display_data",
          "data": {
            "image/png": "[encoded data removed]",
            "text/plain": [
              "<Figure size 432x288 with 1 Axes>"
            ]
          },
          "metadata": {
            "tags": [],
            "needs_background": "light"
          }
        }
      ]
    },
    {
      "cell_type": "code",
      "metadata": {
        "id": "h2NHtqwBFlqy",
        "colab_type": "code",
        "colab": {},
        "outputId": "0fff1745-efcc-4a64-cf03-8c69f4976bc1"
      },
      "source": [
        "model.evaluate(X_test, y_test, batch_size=250)"
      ],
      "execution_count": null,
      "outputs": [
        {
          "output_type": "stream",
          "text": [
            "10000/10000 [==============================] - 1s 73us/step\n"
          ],
          "name": "stdout"
        },
        {
          "output_type": "execute_result",
          "data": {
            "text/plain": [
              "[2.3026821196079252, 0.10000000149011612]"
            ]
          },
          "metadata": {
            "tags": []
          },
          "execution_count": 18
        }
      ]
    },
    {
      "cell_type": "code",
      "metadata": {
        "id": "x8nyRkzLFlq2",
        "colab_type": "code",
        "colab": {}
      },
      "source": [
        ""
      ],
      "execution_count": null,
      "outputs": []
    }
  ]
}